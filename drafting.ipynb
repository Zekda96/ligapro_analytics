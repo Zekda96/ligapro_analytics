{
 "cells": [
  {
   "cell_type": "code",
   "execution_count": 2,
   "metadata": {},
   "outputs": [],
   "source": [
    "import os\n",
    "import json\n",
    "\n",
    "fp = os.path.join('data','matches','mw2', 'imbabura_delfin_statistics.json')\n",
    "\n",
    "with open(fp, 'r') as f:\n",
    "    data = json.load(f)\n",
    "\n",
    "groups = data['statistics'][0]['groups']"
   ]
  },
  {
   "cell_type": "code",
   "execution_count": 11,
   "metadata": {},
   "outputs": [
    {
     "name": "stdout",
     "output_type": "stream",
     "text": [
      "Possession\n",
      "Shots\n",
      "TVData\n",
      "Shots extra\n",
      "Passes\n",
      "Duels\n",
      "Defending\n"
     ]
    }
   ],
   "source": [
    "for group in groups:\n",
    "        print(group['groupName'])"
   ]
  },
  {
   "cell_type": "code",
   "execution_count": 12,
   "metadata": {},
   "outputs": [
    {
     "data": {
      "text/plain": [
       "[{'name': 'Ball possession',\n",
       "  'home': '67%',\n",
       "  'away': '33%',\n",
       "  'compareCode': 1,\n",
       "  'statisticsType': 'positive',\n",
       "  'valueType': 'event',\n",
       "  'homeValue': 67,\n",
       "  'awayValue': 33}]"
      ]
     },
     "execution_count": 12,
     "metadata": {},
     "output_type": "execute_result"
    }
   ],
   "source": [
    "groups[0]['statisticsItems']"
   ]
  },
  {
   "cell_type": "code",
   "execution_count": 21,
   "metadata": {},
   "outputs": [
    {
     "data": {
      "text/html": [
       "<div>\n",
       "<style scoped>\n",
       "    .dataframe tbody tr th:only-of-type {\n",
       "        vertical-align: middle;\n",
       "    }\n",
       "\n",
       "    .dataframe tbody tr th {\n",
       "        vertical-align: top;\n",
       "    }\n",
       "\n",
       "    .dataframe thead th {\n",
       "        text-align: right;\n",
       "    }\n",
       "</style>\n",
       "<table border=\"1\" class=\"dataframe\">\n",
       "  <thead>\n",
       "    <tr style=\"text-align: right;\">\n",
       "      <th></th>\n",
       "      <th>home</th>\n",
       "      <th>away</th>\n",
       "      <th>team</th>\n",
       "      <th>possesion</th>\n",
       "      <th>total_shots</th>\n",
       "      <th>on_target</th>\n",
       "      <th>off_target</th>\n",
       "      <th>blocket_shots</th>\n",
       "      <th>shots_inside_box</th>\n",
       "      <th>shots_outside_box</th>\n",
       "      <th>gk_saves</th>\n",
       "    </tr>\n",
       "  </thead>\n",
       "  <tbody>\n",
       "    <tr>\n",
       "      <th>0</th>\n",
       "      <td>imbabura</td>\n",
       "      <td>delfin</td>\n",
       "      <td>imbabura</td>\n",
       "      <td>67%</td>\n",
       "      <td>24</td>\n",
       "      <td>8</td>\n",
       "      <td>12</td>\n",
       "      <td>4</td>\n",
       "      <td>9</td>\n",
       "      <td>15</td>\n",
       "      <td>5</td>\n",
       "    </tr>\n",
       "    <tr>\n",
       "      <th>1</th>\n",
       "      <td>imbabura</td>\n",
       "      <td>delfin</td>\n",
       "      <td>delfin</td>\n",
       "      <td>33%</td>\n",
       "      <td>14</td>\n",
       "      <td>5</td>\n",
       "      <td>7</td>\n",
       "      <td>2</td>\n",
       "      <td>9</td>\n",
       "      <td>5</td>\n",
       "      <td>5</td>\n",
       "    </tr>\n",
       "  </tbody>\n",
       "</table>\n",
       "</div>"
      ],
      "text/plain": [
       "       home    away      team possesion total_shots on_target off_target  \\\n",
       "0  imbabura  delfin  imbabura       67%          24         8         12   \n",
       "1  imbabura  delfin    delfin       33%          14         5          7   \n",
       "\n",
       "  blocket_shots shots_inside_box shots_outside_box gk_saves  \n",
       "0             4                9                15        5  \n",
       "1             2                9                 5        5  "
      ]
     },
     "execution_count": 21,
     "metadata": {},
     "output_type": "execute_result"
    }
   ],
   "source": [
    "import json\n",
    "import os\n",
    "import pandas as pd\n",
    "\n",
    "# Find all matchweek folders\n",
    "base_dir = './data/matches'\n",
    "matchweek_dirs = os.listdir(base_dir)\n",
    "# Select only directories\n",
    "matchweek_folders = [x for x in matchweek_dirs if os.path.isdir(os.path.join(base_dir,x))]\n",
    "\n",
    "match_files = []\n",
    "final_data = []\n",
    "# Loop through folders\n",
    "for week in matchweek_folders:\n",
    "  match_files = os.listdir(os.path.join(base_dir, week))\n",
    "  # Loop through files\n",
    "  for file in match_files:\n",
    "         # Get team names and filetype to only use 'statistics' files\n",
    "         home, away, filetype = file.split('_')\n",
    "\n",
    "         if filetype == 'statistics.json':\n",
    "            match_fp = os.path.join(base_dir, week, file)\n",
    "            # Read 'statistics' file\n",
    "            with open(match_fp, 'r') as f:\n",
    "               data = json.load(f)\n",
    "\n",
    "            groups = data['statistics'][0]['groups']\n",
    "\n",
    "\n",
    "            # Create one row for each team for each match\n",
    "            for team in ['home', 'away']:\n",
    "                data = {'home': home,\n",
    "                        'away': away,\n",
    "                        'team': home if team=='home' else away,\n",
    "                        'possesion': groups[0]['statisticsItems'][0][team],\n",
    "\n",
    "                        # Shots\n",
    "                        'total_shots': groups[1]['statisticsItems'][0][team],\n",
    "                        'on_target': groups[1]['statisticsItems'][1][team],\n",
    "                        'off_target': groups[1]['statisticsItems'][2][team],\n",
    "                        'blocket_shots': groups[1]['statisticsItems'][3][team],\n",
    "                        'shots_inside_box': groups[3]['statisticsItems'][4][team],\n",
    "                        'shots_outside_box': groups[3]['statisticsItems'][5][team],\n",
    "                        # Defensive\n",
    "                        'gk_saves': groups[3]['statisticsItems'][6][team],\n",
    "                        }\n",
    "                final_data.append(data)\n",
    "\n",
    "    \n",
    "\n",
    "\n",
    "pd.DataFrame(final_data)"
   ]
  }
 ],
 "metadata": {
  "kernelspec": {
   "display_name": ".venv",
   "language": "python",
   "name": "python3"
  },
  "language_info": {
   "codemirror_mode": {
    "name": "ipython",
    "version": 3
   },
   "file_extension": ".py",
   "mimetype": "text/x-python",
   "name": "python",
   "nbconvert_exporter": "python",
   "pygments_lexer": "ipython3",
   "version": "3.10.13"
  }
 },
 "nbformat": 4,
 "nbformat_minor": 2
}
